{
 "metadata": {
  "name": "",
  "signature": "sha256:e8727d16f9ed4caf4cffa4b531e8e8f240f4ac1a2ecc7a193f0da5bfa416c0a5"
 },
 "nbformat": 3,
 "nbformat_minor": 0,
 "worksheets": [
  {
   "cells": [
    {
     "cell_type": "code",
     "collapsed": false,
     "input": [
      "import numpy as np\n",
      "from numpy import nan as NA\n",
      "import pandas as pd\n",
      "import matplotlib as mpl\n",
      "import matplotlib.pyplot as plt\n",
      "from pylab import *\n",
      "import random\n",
      "from scipy.stats import norm\n",
      "\n",
      "#mpl.style.available\n",
      "#mpl.style.use('ggplot') \n",
      "%matplotlib inline  "
     ],
     "language": "python",
     "metadata": {},
     "outputs": [],
     "prompt_number": 2
    },
    {
     "cell_type": "markdown",
     "metadata": {},
     "source": [
      "Import as a dataframe run10.txt"
     ]
    },
    {
     "cell_type": "code",
     "collapsed": false,
     "input": [
      "df = pd.read_table('Stats/run10.txt');"
     ],
     "language": "python",
     "metadata": {},
     "outputs": [],
     "prompt_number": 5
    },
    {
     "cell_type": "markdown",
     "metadata": {},
     "source": [
      "Explore the time variable"
     ]
    },
    {
     "cell_type": "code",
     "collapsed": false,
     "input": [
      "df.time.describe();\n",
      "df.time.hist(normed = True)"
     ],
     "language": "python",
     "metadata": {},
     "outputs": [
      {
       "metadata": {},
       "output_type": "pyout",
       "prompt_number": 11,
       "text": [
        "<matplotlib.axes.AxesSubplot at 0x7ff2a757bb90>"
       ]
      },
      {
       "metadata": {},
       "output_type": "display_data",
       "png": "[encoded data removed]",
       "text": [
        "<matplotlib.figure.Figure at 0x7ff29941f490>"
       ]
      }
     ],
     "prompt_number": 11
    },
    {
     "cell_type": "markdown",
     "metadata": {},
     "source": [
      "   Calculate the mean and standard deviation of the time of the runners. Name them population_mean and population_sd respectively. Hint: Use .mean() and .std()"
     ]
    },
    {
     "cell_type": "code",
     "collapsed": false,
     "input": [
      "population_mean = mean(df.time)\n",
      "population_sd = std(df.time)\n",
      "population_mean\n"
     ],
     "language": "python",
     "metadata": {},
     "outputs": [
      {
       "metadata": {},
       "output_type": "pyout",
       "prompt_number": 13,
       "text": [
        "94.519192271330652"
       ]
      }
     ],
     "prompt_number": 13
    },
    {
     "cell_type": "markdown",
     "metadata": {},
     "source": [
      "Produce a histogram and a fitted density of the time variable. *Beware* of the y-axis range."
     ]
    },
    {
     "cell_type": "code",
     "collapsed": false,
     "input": [
      "df.time.hist(normed = True)\n",
      "df.time.plot(kind = 'kde')"
     ],
     "language": "python",
     "metadata": {},
     "outputs": [
      {
       "metadata": {},
       "output_type": "pyout",
       "prompt_number": 15,
       "text": [
        "<matplotlib.axes.AxesSubplot at 0x7ff2991d1fd0>"
       ]
      },
      {
       "metadata": {},
       "output_type": "display_data",
       "png": "[encoded data removed]",
       "text": [
        "<matplotlib.figure.Figure at 0x7ff29946d190>"
       ]
      }
     ],
     "prompt_number": 15
    },
    {
     "cell_type": "markdown",
     "metadata": {},
     "source": [
      "Get a sample the time of 100 individuals from the data. Use random.sample(data,size of sample)"
     ]
    },
    {
     "cell_type": "code",
     "collapsed": false,
     "input": [
      "sample = random.sample(df.time,100);"
     ],
     "language": "python",
     "metadata": {},
     "outputs": [],
     "prompt_number": 19
    },
    {
     "cell_type": "markdown",
     "metadata": {},
     "source": [
      "Produce a histogram and a fitted density of the time variable for the sample."
     ]
    },
    {
     "cell_type": "code",
     "collapsed": false,
     "input": [
      "df.time.hist(normed = True)\n",
      "df.time.plot(kind = 'kde')"
     ],
     "language": "python",
     "metadata": {},
     "outputs": [
      {
       "metadata": {},
       "output_type": "pyout",
       "prompt_number": 20,
       "text": [
        "<matplotlib.axes.AxesSubplot at 0x7ff299882690>"
       ]
      },
      {
       "metadata": {},
       "output_type": "display_data",
       "png": "[encoded data removed]",
       "text": [
        "<matplotlib.figure.Figure at 0x7ff2993e3810>"
       ]
      }
     ],
     "prompt_number": 20
    },
    {
     "cell_type": "markdown",
     "metadata": {},
     "source": [
      "Calculate the mean and standard deviation of the sample"
     ]
    },
    {
     "cell_type": "code",
     "collapsed": false,
     "input": [
      "sample_mean = mean(sample)\n",
      "sample_std = std(sample)\n",
      "sample_mean"
     ],
     "language": "python",
     "metadata": {},
     "outputs": [
      {
       "metadata": {},
       "output_type": "pyout",
       "prompt_number": 23,
       "text": [
        "95.311999999999983"
       ]
      }
     ],
     "prompt_number": 23
    },
    {
     "cell_type": "markdown",
     "metadata": {},
     "source": [
      "Evaluate the lower bound of a 95% interval. Name it lower"
     ]
    },
    {
     "cell_type": "code",
     "collapsed": false,
     "input": [
      "\n",
      "sample_mean = [];\n",
      "\n",
      "for i in range(100):\n",
      "    sample = random.sample(df.time,100)\n",
      "    sample_mean.append(mean(sample))\n",
      "    \n",
      "sample_mean[1:10]"
     ],
     "language": "python",
     "metadata": {},
     "outputs": [
      {
       "metadata": {},
       "output_type": "pyout",
       "prompt_number": 78,
       "text": [
        "[96.551299999999969,\n",
        " 96.113600000000005,\n",
        " 94.931700000000006,\n",
        " 93.228499999999983,\n",
        " 94.011700000000005,\n",
        " 96.338099999999983,\n",
        " 93.483199999999982,\n",
        " 93.249899999999997,\n",
        " 96.939300000000003]"
       ]
      }
     ],
     "prompt_number": 78
    },
    {
     "cell_type": "markdown",
     "metadata": {},
     "source": [
      "Evaluate the upper bound of a 95% interval. Name it upper"
     ]
    },
    {
     "cell_type": "code",
     "collapsed": false,
     "input": [
      "# Upper is two sd's away from the mean\n",
      "mean_std = std(sample_mean);\n",
      "upper = mean(sample_mean + 2 * mean_std);\n",
      "upper"
     ],
     "language": "python",
     "metadata": {},
     "outputs": [
      {
       "metadata": {},
       "output_type": "pyout",
       "prompt_number": 80,
       "text": [
        "97.87756071580192"
       ]
      }
     ],
     "prompt_number": 80
    },
    {
     "cell_type": "markdown",
     "metadata": {},
     "source": [
      "Plot the confidence interval and the mean of the sample."
     ]
    },
    {
     "cell_type": "code",
     "collapsed": false,
     "input": [
      "# To plot a line between points (x1,y1) and (x2,y2) in Python use plt.plot((x1,x2),(y1,y2))\n",
      "# To plot a point (x,y) use plt.plot(x,y,'.')\n",
      "\n",
      "lower = mean(sample_mean + 2 * mean_std);\n",
      "\n",
      "plt.plot(lo)"
     ],
     "language": "python",
     "metadata": {},
     "outputs": []
    },
    {
     "cell_type": "markdown",
     "metadata": {},
     "source": [
      "Assign an empty list to the variable average, standard_error, lower, upper."
     ]
    },
    {
     "cell_type": "code",
     "collapsed": false,
     "input": [],
     "language": "python",
     "metadata": {},
     "outputs": [],
     "prompt_number": 30
    },
    {
     "cell_type": "markdown",
     "metadata": {},
     "source": [
      "Use a for loop to produce 4  samples of size 100,1000,10000,15000. For every sample calculate the average, standard_error,lower, upper and append the lists."
     ]
    },
    {
     "cell_type": "code",
     "collapsed": false,
     "input": [
      "# Creat a for loop for i in  [100,1000,10000,15000] sample sizes\n",
      "\n",
      "# Sample i observations from the time variable\n",
      "\n",
      "# Evaluate the average of the sample and append it to the average list.\n",
      "\n",
      "# Evaluate the SE of the sample and append it to the sample_SE list.\n",
      "\n",
      "# Evaluate the lower bound of a 95% confidence interval and append it to the lower list.\n",
      "\n",
      "# Evaluate the upper bound of a 95% confidence interval and append it to the upper list.\n"
     ],
     "language": "python",
     "metadata": {},
     "outputs": [],
     "prompt_number": 31
    },
    {
     "cell_type": "markdown",
     "metadata": {},
     "source": [
      "Produce a plot with the 4 different confidence intervals, their respective averages and a vertical line representing the population mean."
     ]
    },
    {
     "cell_type": "code",
     "collapsed": false,
     "input": [
      "# Use plt.figure() to initialize a plot. Play around with the figure size\n",
      "\n",
      "# Create a for loop for the 4 different samples\n",
      "\n",
      "# Plot the confidence interval of the ith sample\n",
      "\n",
      "# Plot a point for the average of the ith sample\n",
      "\n",
      "\n",
      "# Exit the for loop and plot a vertical line of the population mean\n",
      "\n",
      "\n",
      "plt.title(\"95% confidence intervals as the sample size increases\") "
     ],
     "language": "python",
     "metadata": {},
     "outputs": []
    },
    {
     "cell_type": "markdown",
     "metadata": {},
     "source": [
      "Comment on the behaviour of the confidence intervals as the sample size increases. Is this expected?"
     ]
    },
    {
     "cell_type": "code",
     "collapsed": false,
     "input": [],
     "language": "python",
     "metadata": {},
     "outputs": []
    },
    {
     "cell_type": "markdown",
     "metadata": {},
     "source": [
      "Assign an empty list to variable average,standard_error,lower, upper"
     ]
    },
    {
     "cell_type": "code",
     "collapsed": false,
     "input": [],
     "language": "python",
     "metadata": {},
     "outputs": [],
     "prompt_number": 38
    },
    {
     "cell_type": "markdown",
     "metadata": {},
     "source": [
      "Use a for loop to produce 50  samples of size 100. For every sample append the lists average, standard_error,lower, upper with the respective values."
     ]
    },
    {
     "cell_type": "code",
     "collapsed": false,
     "input": [
      "# Creat a for loop for 50 iterations\n",
      "\n",
      "# Sample 100 observations from the time variable\n",
      "\n",
      "# Evaluate the average of the sample and append it to the average list.\n",
      "\n",
      "# Evaluate the SE of the sample and append it to the sample_SE list.\n",
      "\n",
      "# Evaluate the lower bound of a 95% confidence interval and append it to the lower list.\n",
      "\n",
      "# Evaluate the upper bound of a 95% confidence interval and append it to the upper list.\n",
      "\n"
     ],
     "language": "python",
     "metadata": {},
     "outputs": [],
     "prompt_number": 39
    },
    {
     "cell_type": "markdown",
     "metadata": {},
     "source": [
      "Produce a histogram of the average."
     ]
    },
    {
     "cell_type": "code",
     "collapsed": false,
     "input": [],
     "language": "python",
     "metadata": {},
     "outputs": []
    },
    {
     "cell_type": "markdown",
     "metadata": {},
     "source": [
      "Produce a plot with the 50 different confidence intervals, their respective averages and a vertical line representing the population mean."
     ]
    },
    {
     "cell_type": "code",
     "collapsed": false,
     "input": [
      "# Use plt.figure() to initialize a plot. Play around with the figure size\n",
      "\n",
      "# Create a for loop of 50 iterations\n",
      "\n",
      "# Plot the confidence interval of the ith sample\n",
      "\n",
      "# Plot a point for the average of the ith sample\n",
      "\n",
      "\n",
      "# Exit the for loop and plot a vertical line of the population mean\n",
      "\n",
      "plt.title(\"95% confidence intervals\") \n",
      "\n",
      "    "
     ],
     "language": "python",
     "metadata": {},
     "outputs": []
    },
    {
     "cell_type": "markdown",
     "metadata": {},
     "source": [
      "Comment the on the graph that is produced."
     ]
    },
    {
     "cell_type": "code",
     "collapsed": false,
     "input": [],
     "language": "python",
     "metadata": {},
     "outputs": []
    }
   ],
   "metadata": {}
  }
 ]
}