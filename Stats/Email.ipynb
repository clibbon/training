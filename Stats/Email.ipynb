{
 "metadata": {
  "name": "",
  "signature": "sha256:2fee91f93ce2b697cf4e2d775b77f9bccd467548f0cc77b69cf40633d99d7a53"
 },
 "nbformat": 3,
 "nbformat_minor": 0,
 "worksheets": [
  {
   "cells": [
    {
     "cell_type": "heading",
     "level": 1,
     "metadata": {},
     "source": [
      "Import relevant libraries"
     ]
    },
    {
     "cell_type": "code",
     "collapsed": false,
     "input": [
      "import numpy as np\n",
      "import pandas as pd\n",
      "import matplotlib as mpl\n",
      "import matplotlib.pyplot as plt\n",
      "import pylab\n",
      "import scipy.stats as stats\n",
      "#mpl.style.available\n",
      "#mpl.style.use('ggplot') \n",
      "%matplotlib inline "
     ],
     "language": "python",
     "metadata": {},
     "outputs": [],
     "prompt_number": 2
    },
    {
     "cell_type": "markdown",
     "metadata": {},
     "source": [
      "\n",
      "##Description\n",
      "These data represent incoming emails for the first three months of 2012 for an email account.\n",
      "##Format\n",
      "A email (email_sent) data frame has 3921 (1252) observations on the following 21 variables.\n",
      "\n",
      "spam: Indicator for whether the email was spam.\n",
      "\n",
      "to_multiple: Indicator for whether the email was addressed to more than one recipient.\n",
      "\n",
      "from: Whether the message was listed as from anyone (this is usually set by default for regular outgoing email).\n",
      "\n",
      "cc: The number of people that were CCed.\n",
      "\n",
      "sent_email: Indicator for whether the sender had been sent an email in the last 30 days.\n",
      "\n",
      "time: Time at which email was sent.\n",
      "\n",
      "image: The number of images attached.\n",
      "\n",
      "attach: The number of attached files.\n",
      "\n",
      "dollar: The number of times a dollar sign or the word \u201cdollar\u201d appeared in the email.\n",
      "\n",
      "winner: Indicates whether \u201cwinner\u201d appeared in the email.\n",
      "\n",
      "inherit: The number of times \u201cinherit\u201d (or an extension, such as \u201cinheritance\u201d) appeared in the email.\n",
      "\n",
      "viagra: The number of times \u201cviagra\u201d appeared in the email.\n",
      "\n",
      "password: The number of times \u201cpassword\u201d appeared in the email.\n",
      "\n",
      "num_char: The number of characters in the email, in thousands.\n",
      "\n",
      "line_breaks: The number of line breaks in the email (does not count text wrapping).\n",
      "\n",
      "format: Indicates whether the email was written using HTML (e.g. may have included bolding or active links).\n",
      "\n",
      "re_subj: Whether the subject started with \u201cRe:\u201d, \u201cRE:\u201d, \u201cre:\u201d, or \u201crE:\u201d\n",
      "\n",
      "exclaim_subj: Whether there was an exclamation point in the subject.\n",
      "\n",
      "urgent_subj: Whether the word \u201curgent\u201d was in the email subject.\n",
      "\n",
      "exclaim_mess: The number of exclamation points in the email message.\n",
      "\n",
      "number: Factor variable saying whether there was no number, a small number (under 1 million), or a big number."
     ]
    },
    {
     "cell_type": "markdown",
     "metadata": {},
     "source": [
      "Load email.txt on a data frame.\n",
      "Use df=pd.read_table('path')"
     ]
    },
    {
     "cell_type": "code",
     "collapsed": false,
     "input": [
      "df = pd.read_table('Stats/email.txt')\n",
      "\n"
     ],
     "language": "python",
     "metadata": {},
     "outputs": [],
     "prompt_number": 7
    },
    {
     "cell_type": "markdown",
     "metadata": {},
     "source": [
      "Explore the first lines of the data by using df.head()"
     ]
    },
    {
     "cell_type": "code",
     "collapsed": false,
     "input": [
      "df.head(1)"
     ],
     "language": "python",
     "metadata": {},
     "outputs": [
      {
       "html": [
        "<div style=\"max-height:1000px;max-width:1500px;overflow:auto;\">\n",
        "<table border=\"1\" class=\"dataframe\">\n",
        "  <thead>\n",
        "    <tr style=\"text-align: right;\">\n",
        "      <th></th>\n",
        "      <th>spam</th>\n",
        "      <th>to_multiple</th>\n",
        "      <th>from</th>\n",
        "      <th>cc</th>\n",
        "      <th>sent_email</th>\n",
        "      <th>time</th>\n",
        "      <th>image</th>\n",
        "      <th>attach</th>\n",
        "      <th>dollar</th>\n",
        "      <th>winner</th>\n",
        "      <th>...</th>\n",
        "      <th>viagra</th>\n",
        "      <th>password</th>\n",
        "      <th>num_char</th>\n",
        "      <th>line_breaks</th>\n",
        "      <th>format</th>\n",
        "      <th>re_subj</th>\n",
        "      <th>exclaim_subj</th>\n",
        "      <th>urgent_subj</th>\n",
        "      <th>exclaim_mess</th>\n",
        "      <th>number</th>\n",
        "    </tr>\n",
        "  </thead>\n",
        "  <tbody>\n",
        "    <tr>\n",
        "      <th>0</th>\n",
        "      <td> 0</td>\n",
        "      <td> 0</td>\n",
        "      <td> 1</td>\n",
        "      <td> 0</td>\n",
        "      <td> 0</td>\n",
        "      <td> 2011-12-31 22:16:41</td>\n",
        "      <td> 0</td>\n",
        "      <td> 0</td>\n",
        "      <td> 0</td>\n",
        "      <td> no</td>\n",
        "      <td>...</td>\n",
        "      <td> 0</td>\n",
        "      <td> 0</td>\n",
        "      <td> 11.37</td>\n",
        "      <td> 202</td>\n",
        "      <td> 1</td>\n",
        "      <td> 0</td>\n",
        "      <td> 0</td>\n",
        "      <td> 0</td>\n",
        "      <td> 0</td>\n",
        "      <td> big</td>\n",
        "    </tr>\n",
        "  </tbody>\n",
        "</table>\n",
        "<p>1 rows \u00d7 21 columns</p>\n",
        "</div>"
       ],
       "metadata": {},
       "output_type": "pyout",
       "prompt_number": 9,
       "text": [
        "   spam  to_multiple  from  cc  sent_email                 time  image  \\\n",
        "0     0            0     1   0           0  2011-12-31 22:16:41      0   \n",
        "\n",
        "   attach  dollar winner  ...    viagra  password  num_char  line_breaks  \\\n",
        "0       0       0     no  ...         0         0     11.37          202   \n",
        "\n",
        "   format  re_subj  exclaim_subj  urgent_subj  exclaim_mess  number  \n",
        "0       1        0             0            0             0     big  \n",
        "\n",
        "[1 rows x 21 columns]"
       ]
      }
     ],
     "prompt_number": 9
    },
    {
     "cell_type": "markdown",
     "metadata": {},
     "source": [
      "Explore the different types of variables  df.dtypes"
     ]
    },
    {
     "cell_type": "code",
     "collapsed": false,
     "input": [
      "df.dtypes"
     ],
     "language": "python",
     "metadata": {},
     "outputs": [
      {
       "metadata": {},
       "output_type": "pyout",
       "prompt_number": 11,
       "text": [
        "spam              int64\n",
        "to_multiple       int64\n",
        "from              int64\n",
        "cc                int64\n",
        "sent_email        int64\n",
        "time             object\n",
        "image             int64\n",
        "attach            int64\n",
        "dollar            int64\n",
        "winner           object\n",
        "inherit           int64\n",
        "viagra            int64\n",
        "password          int64\n",
        "num_char        float64\n",
        "line_breaks       int64\n",
        "format            int64\n",
        "re_subj           int64\n",
        "exclaim_subj      int64\n",
        "urgent_subj       int64\n",
        "exclaim_mess      int64\n",
        "number           object\n",
        "dtype: object"
       ]
      }
     ],
     "prompt_number": 11
    },
    {
     "cell_type": "markdown",
     "metadata": {},
     "source": [
      "Print the values of the num_char variable. Hint: in order to select a variable from a data base use df.variable or df['variable']."
     ]
    },
    {
     "cell_type": "code",
     "collapsed": false,
     "input": [
      "df.num_char[0]"
     ],
     "language": "python",
     "metadata": {},
     "outputs": [
      {
       "metadata": {},
       "output_type": "pyout",
       "prompt_number": 21,
       "text": [
        "11.369999999999999"
       ]
      }
     ],
     "prompt_number": 21
    },
    {
     "cell_type": "markdown",
     "metadata": {},
     "source": [
      "Use  .describe() to get a summary on num_char"
     ]
    },
    {
     "cell_type": "code",
     "collapsed": false,
     "input": [
      "df.num_char.describe()"
     ],
     "language": "python",
     "metadata": {},
     "outputs": [
      {
       "metadata": {},
       "output_type": "pyout",
       "prompt_number": 23,
       "text": [
        "count    3921.000000\n",
        "mean       10.706586\n",
        "std        14.645786\n",
        "min         0.001000\n",
        "25%         1.459000\n",
        "50%         5.856000\n",
        "75%        14.084000\n",
        "max       190.087000\n",
        "dtype: float64"
       ]
      }
     ],
     "prompt_number": 23
    },
    {
     "cell_type": "markdown",
     "metadata": {},
     "source": [
      "Use plt.scatter() to plot the scatter plot of num_char and line_breaks"
     ]
    },
    {
     "cell_type": "code",
     "collapsed": false,
     "input": [
      "plt.scatter(df.num_char,df.line_breaks)"
     ],
     "language": "python",
     "metadata": {},
     "outputs": [
      {
       "metadata": {},
       "output_type": "pyout",
       "prompt_number": 24,
       "text": [
        "<matplotlib.collections.PathCollection at 0x7f41d54a7550>"
       ]
      },
      {
       "metadata": {},
       "output_type": "display_data",
       "png": "[encoded data removed]",
       "text": [
        "<matplotlib.figure.Figure at 0x7f41d4d29cd0>"
       ]
      }
     ],
     "prompt_number": 24
    },
    {
     "cell_type": "markdown",
     "metadata": {},
     "source": [
      "Describe the relationship between the two variables."
     ]
    },
    {
     "cell_type": "code",
     "collapsed": false,
     "input": [
      "plt.scatter(log(df.num_char),log(df.line_breaks))\n",
      "# It's a seemingly positive relationship, linear"
     ],
     "language": "python",
     "metadata": {},
     "outputs": [
      {
       "metadata": {},
       "output_type": "pyout",
       "prompt_number": 27,
       "text": [
        "<matplotlib.collections.PathCollection at 0x7f41d5143250>"
       ]
      },
      {
       "metadata": {},
       "output_type": "display_data",
       "png": "[encoded data removed]",
       "text": [
        "<matplotlib.figure.Figure at 0x7f41d520a690>"
       ]
      }
     ],
     "prompt_number": 27
    },
    {
     "cell_type": "markdown",
     "metadata": {},
     "source": [
      "Use  .hist() to get a histogram on num_char"
     ]
    },
    {
     "cell_type": "code",
     "collapsed": false,
     "input": [
      "df.num_char.hist()"
     ],
     "language": "python",
     "metadata": {},
     "outputs": [
      {
       "metadata": {},
       "output_type": "pyout",
       "prompt_number": 28,
       "text": [
        "<matplotlib.axes.AxesSubplot at 0x7f41d5387d90>"
       ]
      },
      {
       "metadata": {},
       "output_type": "display_data",
       "png": "[encoded data removed]",
       "text": [
        "<matplotlib.figure.Figure at 0x7f41d5351190>"
       ]
      }
     ],
     "prompt_number": 28
    },
    {
     "cell_type": "markdown",
     "metadata": {},
     "source": [
      "Take the log of num_char, by using np.log "
     ]
    },
    {
     "cell_type": "code",
     "collapsed": false,
     "input": [
      "log_num_char = np.log(df.num_char)"
     ],
     "language": "python",
     "metadata": {},
     "outputs": [],
     "prompt_number": 32
    },
    {
     "cell_type": "markdown",
     "metadata": {},
     "source": [
      "Produce a histogram of the log values"
     ]
    },
    {
     "cell_type": "code",
     "collapsed": false,
     "input": [
      "log_num_char.hist()"
     ],
     "language": "python",
     "metadata": {},
     "outputs": [
      {
       "metadata": {},
       "output_type": "pyout",
       "prompt_number": 33,
       "text": [
        "<matplotlib.axes.AxesSubplot at 0x7f41d51faed0>"
       ]
      },
      {
       "metadata": {},
       "output_type": "display_data",
       "png": "[encoded data removed]",
       "text": [
        "<matplotlib.figure.Figure at 0x7f41d504e950>"
       ]
      }
     ],
     "prompt_number": 33
    },
    {
     "cell_type": "markdown",
     "metadata": {},
     "source": [
      "Add the option normed=True in .hist to take a normalised historgram"
     ]
    },
    {
     "cell_type": "code",
     "collapsed": false,
     "input": [
      "log_num_char.hist(normed = True)"
     ],
     "language": "python",
     "metadata": {},
     "outputs": [
      {
       "metadata": {},
       "output_type": "pyout",
       "prompt_number": 34,
       "text": [
        "<matplotlib.axes.AxesSubplot at 0x7f41d504e910>"
       ]
      },
      {
       "metadata": {},
       "output_type": "display_data",
       "png": "[encoded data removed]",
       "text": [
        "<matplotlib.figure.Figure at 0x7f41d5133390>"
       ]
      }
     ],
     "prompt_number": 34
    },
    {
     "cell_type": "markdown",
     "metadata": {},
     "source": [
      "Describe the distribution of log(num_char)"
     ]
    },
    {
     "cell_type": "code",
     "collapsed": false,
     "input": [
      "# Right skew"
     ],
     "language": "python",
     "metadata": {},
     "outputs": [],
     "prompt_number": 19
    },
    {
     "cell_type": "markdown",
     "metadata": {},
     "source": [
      "Use .plot(kind='kde') to get a fitted distribution of log(num_char)"
     ]
    },
    {
     "cell_type": "code",
     "collapsed": false,
     "input": [
      "log_num_char.plot(kind = 'kde')"
     ],
     "language": "python",
     "metadata": {},
     "outputs": [
      {
       "metadata": {},
       "output_type": "pyout",
       "prompt_number": 35,
       "text": [
        "<matplotlib.axes.AxesSubplot at 0x7f41d4e4ee10>"
       ]
      },
      {
       "metadata": {},
       "output_type": "display_data",
       "png": "[encoded data removed]",
       "text": [
        "<matplotlib.figure.Figure at 0x7f41d4fad290>"
       ]
      }
     ],
     "prompt_number": 35
    },
    {
     "cell_type": "markdown",
     "metadata": {},
     "source": [
      "Put the histogram and the fitted distribution code to see a combined graph."
     ]
    },
    {
     "cell_type": "code",
     "collapsed": false,
     "input": [
      "log_num_char.hist(normed = True)\n",
      "log_num_char.plot(kind = 'kde')"
     ],
     "language": "python",
     "metadata": {},
     "outputs": [
      {
       "metadata": {},
       "output_type": "pyout",
       "prompt_number": 36,
       "text": [
        "<matplotlib.axes.AxesSubplot at 0x7f41d4e49990>"
       ]
      },
      {
       "metadata": {},
       "output_type": "display_data",
       "png": "[encoded data removed]",
       "text": [
        "<matplotlib.figure.Figure at 0x7f41d4febf90>"
       ]
      }
     ],
     "prompt_number": 36
    },
    {
     "cell_type": "markdown",
     "metadata": {},
     "source": [
      "Use stats.probplot(Variable,plot=pylab) to make the probability graph of log(num_char)."
     ]
    },
    {
     "cell_type": "code",
     "collapsed": false,
     "input": [
      "stats.probplot(log_num_char,plot=pylab);"
     ],
     "language": "python",
     "metadata": {},
     "outputs": [
      {
       "metadata": {},
       "output_type": "display_data",
       "png": "[encoded data removed]",
       "text": [
        "<matplotlib.figure.Figure at 0x7f41d4f1b410>"
       ]
      }
     ],
     "prompt_number": 38
    },
    {
     "cell_type": "markdown",
     "metadata": {},
     "source": [
      "Is log(num_char) normaly distributed? Justify your answer."
     ]
    },
    {
     "cell_type": "code",
     "collapsed": false,
     "input": [
      "# Nope, the quantiles don't follow the linear trend at the extremes. The distribution is not symmetric"
     ],
     "language": "python",
     "metadata": {},
     "outputs": []
    },
    {
     "cell_type": "markdown",
     "metadata": {},
     "source": [
      "Produce a frequency table for the number of spam and no spam emails using .value_counts(). \n",
      "Name it spam_freq."
     ]
    },
    {
     "cell_type": "code",
     "collapsed": false,
     "input": [
      "spam_freq = df.spam.value_counts()\n",
      "spam_freq\n"
     ],
     "language": "python",
     "metadata": {},
     "outputs": [
      {
       "metadata": {},
       "output_type": "pyout",
       "prompt_number": 41,
       "text": [
        "0    3554\n",
        "1     367\n",
        "dtype: int64"
       ]
      }
     ],
     "prompt_number": 41
    },
    {
     "cell_type": "markdown",
     "metadata": {},
     "source": [
      "Produce a bar plot of the previous results by using .plot(kind='bar')"
     ]
    },
    {
     "cell_type": "code",
     "collapsed": false,
     "input": [
      "spam_freq.plot(kind = 'bar');\n",
      "title('Eggs and Ham');\n",
      "xticks(arange(2),('Not Spam','Spam'), rotation = 45);\n"
     ],
     "language": "python",
     "metadata": {},
     "outputs": [
      {
       "metadata": {},
       "output_type": "display_data",
       "png": "[encoded data removed]",
       "text": [
        "<matplotlib.figure.Figure at 0x7f41d44e7390>"
       ]
      }
     ],
     "prompt_number": 65
    },
    {
     "cell_type": "markdown",
     "metadata": {},
     "source": [
      "Produce a pivot table for spam and number variables using pd.crosstab(Variable1,Variable2) and name it pivot_table."
     ]
    },
    {
     "cell_type": "code",
     "collapsed": false,
     "input": [
      "pivot_table = pd.crosstab(df.spam, df.number);\n",
      "pivot_table"
     ],
     "language": "python",
     "metadata": {},
     "outputs": [
      {
       "html": [
        "<div style=\"max-height:1000px;max-width:1500px;overflow:auto;\">\n",
        "<table border=\"1\" class=\"dataframe\">\n",
        "  <thead>\n",
        "    <tr style=\"text-align: right;\">\n",
        "      <th>number</th>\n",
        "      <th>big</th>\n",
        "      <th>none</th>\n",
        "      <th>small</th>\n",
        "    </tr>\n",
        "    <tr>\n",
        "      <th>spam</th>\n",
        "      <th></th>\n",
        "      <th></th>\n",
        "      <th></th>\n",
        "    </tr>\n",
        "  </thead>\n",
        "  <tbody>\n",
        "    <tr>\n",
        "      <th>0</th>\n",
        "      <td> 495</td>\n",
        "      <td> 400</td>\n",
        "      <td> 2659</td>\n",
        "    </tr>\n",
        "    <tr>\n",
        "      <th>1</th>\n",
        "      <td>  50</td>\n",
        "      <td> 149</td>\n",
        "      <td>  168</td>\n",
        "    </tr>\n",
        "  </tbody>\n",
        "</table>\n",
        "</div>"
       ],
       "metadata": {},
       "output_type": "pyout",
       "prompt_number": 68,
       "text": [
        "number  big  none  small\n",
        "spam                    \n",
        "0       495   400   2659\n",
        "1        50   149    168"
       ]
      }
     ],
     "prompt_number": 68
    },
    {
     "cell_type": "markdown",
     "metadata": {},
     "source": [
      "Produce a bar plot for the table"
     ]
    },
    {
     "cell_type": "code",
     "collapsed": false,
     "input": [
      "pivot_table.plot(kind = 'bar');\n",
      "title('Recorded number incidence in spam');\n",
      "xticks(arange(2),('Not spam','Spam'), rotation = 45);"
     ],
     "language": "python",
     "metadata": {},
     "outputs": [
      {
       "metadata": {},
       "output_type": "display_data",
       "png": "[encoded data removed]",
       "text": [
        "<matplotlib.figure.Figure at 0x7f41d43cab90>"
       ]
      }
     ],
     "prompt_number": 76
    },
    {
     "cell_type": "markdown",
     "metadata": {},
     "source": [
      "Produce frequency table by normalising the columns, i.e. use 'Name of your talbe'.div('Name of your talbe'.sum(1).astype(float),axis=0), and name it pivot_freq."
     ]
    },
    {
     "cell_type": "code",
     "collapsed": false,
     "input": [
      "norm_pivot_table = pivot_table.div(pivot_table.sum(1).astype(float),axis=0);\n",
      "norm_pivot_table"
     ],
     "language": "python",
     "metadata": {},
     "outputs": [
      {
       "html": [
        "<div style=\"max-height:1000px;max-width:1500px;overflow:auto;\">\n",
        "<table border=\"1\" class=\"dataframe\">\n",
        "  <thead>\n",
        "    <tr style=\"text-align: right;\">\n",
        "      <th>number</th>\n",
        "      <th>big</th>\n",
        "      <th>none</th>\n",
        "      <th>small</th>\n",
        "    </tr>\n",
        "    <tr>\n",
        "      <th>spam</th>\n",
        "      <th></th>\n",
        "      <th></th>\n",
        "      <th></th>\n",
        "    </tr>\n",
        "  </thead>\n",
        "  <tbody>\n",
        "    <tr>\n",
        "      <th>0</th>\n",
        "      <td> 0.13928</td>\n",
        "      <td> 0.112549</td>\n",
        "      <td> 0.748171</td>\n",
        "    </tr>\n",
        "    <tr>\n",
        "      <th>1</th>\n",
        "      <td> 0.13624</td>\n",
        "      <td> 0.405995</td>\n",
        "      <td> 0.457766</td>\n",
        "    </tr>\n",
        "  </tbody>\n",
        "</table>\n",
        "</div>"
       ],
       "metadata": {},
       "output_type": "pyout",
       "prompt_number": 90,
       "text": [
        "number      big      none     small\n",
        "spam                               \n",
        "0       0.13928  0.112549  0.748171\n",
        "1       0.13624  0.405995  0.457766"
       ]
      }
     ],
     "prompt_number": 90
    },
    {
     "cell_type": "markdown",
     "metadata": {},
     "source": [
      "Produce a bar plot from the frequency table."
     ]
    },
    {
     "cell_type": "code",
     "collapsed": false,
     "input": [
      "norm_pivot_table.plot(kind = 'bar');\n",
      "xticks(arange(2),('Not spam','Spam'), rotation = 0);\n",
      "xlabel('');"
     ],
     "language": "python",
     "metadata": {},
     "outputs": [
      {
       "metadata": {},
       "output_type": "pyout",
       "prompt_number": 97,
       "text": [
        "<matplotlib.text.Text at 0x7f41d252cc50>"
       ]
      },
      {
       "metadata": {},
       "output_type": "display_data",
       "png": "[encoded data removed]",
       "text": [
        "<matplotlib.figure.Figure at 0x7f41d24f5490>"
       ]
      }
     ],
     "prompt_number": 97
    },
    {
     "cell_type": "markdown",
     "metadata": {},
     "source": [
      "Add stacked=True to the arguments of the barplot. Compare the graphs."
     ]
    },
    {
     "cell_type": "code",
     "collapsed": false,
     "input": [
      "norm_pivot_table.plot(kind = 'bar',stacked = True);\n",
      "xticks(arange(2),('Not spam','Spam'), rotation = 0);\n",
      "xlabel('');"
     ],
     "language": "python",
     "metadata": {},
     "outputs": [
      {
       "metadata": {},
       "output_type": "display_data",
       "png": "[encoded data removed]",
       "text": [
        "<matplotlib.figure.Figure at 0x7f41d2431410>"
       ]
      }
     ],
     "prompt_number": 99
    },
    {
     "cell_type": "code",
     "collapsed": false,
     "input": [],
     "language": "python",
     "metadata": {},
     "outputs": []
    }
   ],
   "metadata": {}
  }
 ]
}