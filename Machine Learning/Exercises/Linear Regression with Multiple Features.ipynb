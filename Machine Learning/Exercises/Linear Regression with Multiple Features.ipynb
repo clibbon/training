{
 "metadata": {
  "name": "",
  "signature": "sha256:dc33f42a70c0848868a471fea33a7bce6006cd3c712c5a5920afbb939b3db60b"
 },
 "nbformat": 3,
 "nbformat_minor": 0,
 "worksheets": [
  {
   "cells": [
    {
     "cell_type": "heading",
     "level": 1,
     "metadata": {},
     "source": [
      "Linear Regression Multiple Features Practical"
     ]
    },
    {
     "cell_type": "markdown",
     "metadata": {},
     "source": [
      "Begin by importing all necessary modules"
     ]
    },
    {
     "cell_type": "code",
     "collapsed": false,
     "input": [
      "import numpy as np\n",
      "import pandas as pd\n",
      "import matplotlib as mpl\n",
      "import matplotlib.pyplot as plt\n",
      "import pylab\n",
      "mpl.style.available\n",
      "mpl.style.use('ggplot') \n",
      "\n",
      "%matplotlib inline "
     ],
     "language": "python",
     "metadata": {},
     "outputs": [
      {
       "ename": "AttributeError",
       "evalue": "'module' object has no attribute 'style'",
       "output_type": "pyerr",
       "traceback": [
        "\u001b[1;31m---------------------------------------------------------------------------\u001b[0m\n\u001b[1;31mAttributeError\u001b[0m                            Traceback (most recent call last)",
        "\u001b[1;32m<ipython-input-3-5b6c3ba64f2f>\u001b[0m in \u001b[0;36m<module>\u001b[1;34m()\u001b[0m\n\u001b[0;32m      4\u001b[0m \u001b[1;32mimport\u001b[0m \u001b[0mmatplotlib\u001b[0m\u001b[1;33m.\u001b[0m\u001b[0mpyplot\u001b[0m \u001b[1;32mas\u001b[0m \u001b[0mplt\u001b[0m\u001b[1;33m\u001b[0m\u001b[0m\n\u001b[0;32m      5\u001b[0m \u001b[1;32mimport\u001b[0m \u001b[0mpylab\u001b[0m\u001b[1;33m\u001b[0m\u001b[0m\n\u001b[1;32m----> 6\u001b[1;33m \u001b[0mmpl\u001b[0m\u001b[1;33m.\u001b[0m\u001b[0mstyle\u001b[0m\u001b[1;33m.\u001b[0m\u001b[0mavailable\u001b[0m\u001b[1;33m\u001b[0m\u001b[0m\n\u001b[0m\u001b[0;32m      7\u001b[0m \u001b[0mmpl\u001b[0m\u001b[1;33m.\u001b[0m\u001b[0mstyle\u001b[0m\u001b[1;33m.\u001b[0m\u001b[0muse\u001b[0m\u001b[1;33m(\u001b[0m\u001b[1;34m'ggplot'\u001b[0m\u001b[1;33m)\u001b[0m\u001b[1;33m\u001b[0m\u001b[0m\n\u001b[0;32m      8\u001b[0m \u001b[1;33m\u001b[0m\u001b[0m\n",
        "\u001b[1;31mAttributeError\u001b[0m: 'module' object has no attribute 'style'"
       ]
      }
     ],
     "prompt_number": 3
    },
    {
     "cell_type": "markdown",
     "metadata": {},
     "source": [
      "Load LinRegMultiDataset.csv onto a data frame. Use pd.read_csv(...)"
     ]
    },
    {
     "cell_type": "code",
     "collapsed": false,
     "input": [
      "df = pd.read_csv('Machine Learning/Exercises/LinRegMultiDataset.csv')"
     ],
     "language": "python",
     "metadata": {},
     "outputs": [],
     "prompt_number": 5
    },
    {
     "cell_type": "markdown",
     "metadata": {},
     "source": [
      "Explore first lines and data format using df.head()"
     ]
    },
    {
     "cell_type": "code",
     "collapsed": false,
     "input": [
      "df.head(10)\n",
      "df.describe()"
     ],
     "language": "python",
     "metadata": {},
     "outputs": [
      {
       "html": [
        "<div style=\"max-height:1000px;max-width:1500px;overflow:auto;\">\n",
        "<table border=\"1\" class=\"dataframe\">\n",
        "  <thead>\n",
        "    <tr style=\"text-align: right;\">\n",
        "      <th></th>\n",
        "      <th>X1</th>\n",
        "      <th>X2</th>\n",
        "      <th>Y</th>\n",
        "    </tr>\n",
        "  </thead>\n",
        "  <tbody>\n",
        "    <tr>\n",
        "      <th>count</th>\n",
        "      <td>   47.000000</td>\n",
        "      <td> 47.000000</td>\n",
        "      <td>     47.000000</td>\n",
        "    </tr>\n",
        "    <tr>\n",
        "      <th>mean</th>\n",
        "      <td> 2000.680851</td>\n",
        "      <td>  3.170213</td>\n",
        "      <td> 340412.659574</td>\n",
        "    </tr>\n",
        "    <tr>\n",
        "      <th>std</th>\n",
        "      <td>  794.702354</td>\n",
        "      <td>  0.760982</td>\n",
        "      <td> 125039.899586</td>\n",
        "    </tr>\n",
        "    <tr>\n",
        "      <th>min</th>\n",
        "      <td>  852.000000</td>\n",
        "      <td>  1.000000</td>\n",
        "      <td> 169900.000000</td>\n",
        "    </tr>\n",
        "    <tr>\n",
        "      <th>25%</th>\n",
        "      <td> 1432.000000</td>\n",
        "      <td>  3.000000</td>\n",
        "      <td> 249900.000000</td>\n",
        "    </tr>\n",
        "    <tr>\n",
        "      <th>50%</th>\n",
        "      <td> 1888.000000</td>\n",
        "      <td>  3.000000</td>\n",
        "      <td> 299900.000000</td>\n",
        "    </tr>\n",
        "    <tr>\n",
        "      <th>75%</th>\n",
        "      <td> 2269.000000</td>\n",
        "      <td>  4.000000</td>\n",
        "      <td> 384450.000000</td>\n",
        "    </tr>\n",
        "    <tr>\n",
        "      <th>max</th>\n",
        "      <td> 4478.000000</td>\n",
        "      <td>  5.000000</td>\n",
        "      <td> 699900.000000</td>\n",
        "    </tr>\n",
        "  </tbody>\n",
        "</table>\n",
        "</div>"
       ],
       "metadata": {},
       "output_type": "pyout",
       "prompt_number": 6,
       "text": [
        "                X1         X2              Y\n",
        "count    47.000000  47.000000      47.000000\n",
        "mean   2000.680851   3.170213  340412.659574\n",
        "std     794.702354   0.760982  125039.899586\n",
        "min     852.000000   1.000000  169900.000000\n",
        "25%    1432.000000   3.000000  249900.000000\n",
        "50%    1888.000000   3.000000  299900.000000\n",
        "75%    2269.000000   4.000000  384450.000000\n",
        "max    4478.000000   5.000000  699900.000000"
       ]
      }
     ],
     "prompt_number": 6
    },
    {
     "cell_type": "markdown",
     "metadata": {},
     "source": [
      "Use plt.scatter() to plot X1 against Y, then X2 against Y"
     ]
    },
    {
     "cell_type": "code",
     "collapsed": false,
     "input": [
      "plt.scatter(df.X1, df.Y);\n",
      "plt.figure()\n",
      "plt.scatter(df.X2, df.Y);"
     ],
     "language": "python",
     "metadata": {},
     "outputs": [
      {
       "metadata": {},
       "output_type": "pyout",
       "prompt_number": 7,
       "text": [
        "<matplotlib.collections.PathCollection at 0x7fba9ac0db90>"
       ]
      },
      {
       "metadata": {},
       "output_type": "display_data",
       "png": "[encoded data removed]",
       "text": [
        "<matplotlib.figure.Figure at 0x7fba9af9bfd0>"
       ]
      },
      {
       "metadata": {},
       "output_type": "display_data",
       "png": "[encoded data removed]",
       "text": [
        "<matplotlib.figure.Figure at 0x7fba9af9bf50>"
       ]
      }
     ],
     "prompt_number": 7
    },
    {
     "cell_type": "markdown",
     "metadata": {},
     "source": [
      "Define Multi-variate Linear Function (with two x inputs and three variables)"
     ]
    },
    {
     "cell_type": "code",
     "collapsed": false,
     "input": [
      "def LinFunc(x1, x2, theta_0, theta_1, theta_2):\n",
      "    f = theta_0 + theta_1*x1 + theta_2*x2;\n",
      "    return f"
     ],
     "language": "python",
     "metadata": {},
     "outputs": [],
     "prompt_number": 17
    },
    {
     "cell_type": "heading",
     "level": 2,
     "metadata": {},
     "source": [
      "Feature Scaling"
     ]
    },
    {
     "cell_type": "markdown",
     "metadata": {},
     "source": [
      "Write function to scale features according to:\n",
      "\n",
      "$$x_i = \\frac{x_i - \\mu_i}{std(x_i)}$$\n",
      "\n",
      "Use mean() and max() operators built into pandas to do this.\n",
      "Function should should return both the scaled input vector, as well as the mean and std to we can scale later inputs.\n",
      "    "
     ]
    },
    {
     "cell_type": "code",
     "collapsed": false,
     "input": [
      "def FeatureScale(x):\n",
      "    mu = np.mean(x)\n",
      "    std = np.std(x)\n",
      "    x_scaled = (x - mu)/std;\n",
      "    return x_scaled, mu, std"
     ],
     "language": "python",
     "metadata": {},
     "outputs": [],
     "prompt_number": 8
    },
    {
     "cell_type": "markdown",
     "metadata": {},
     "source": [
      "Scale both input features and store in new columns in data frame (also storing mean and standard deviation"
     ]
    },
    {
     "cell_type": "code",
     "collapsed": false,
     "input": [
      "df['X1_scaled'], X1_mu, X1_std = FeatureScale(df.X1)\n",
      "df['X2_scaled'], X2_mu, X2_std = FeatureScale(df.X2)"
     ],
     "language": "python",
     "metadata": {},
     "outputs": [],
     "prompt_number": 9
    },
    {
     "cell_type": "markdown",
     "metadata": {},
     "source": [
      "Replot using plt.scatter() to confirm scaling"
     ]
    },
    {
     "cell_type": "code",
     "collapsed": false,
     "input": [
      "plt.scatter(df.X1_scaled, df.Y);\n",
      "plt.scatter(df.X2_scaled, df.Y, color = 'r');"
     ],
     "language": "python",
     "metadata": {},
     "outputs": [
      {
       "metadata": {},
       "output_type": "display_data",
       "png": "[encoded data removed]",
       "text": [
        "<matplotlib.figure.Figure at 0x7fba9aa0d9d0>"
       ]
      }
     ],
     "prompt_number": 12
    },
    {
     "cell_type": "heading",
     "level": 2,
     "metadata": {},
     "source": [
      "Multi-variate Gradient Descent"
     ]
    },
    {
     "cell_type": "markdown",
     "metadata": {},
     "source": [
      "Define gradient function:\n",
      "$$g_j = \\frac{1}{m} \\sum_{i=1}^m (y_{pred}^i - y_{obs}^i).x^i_j$$\n",
      "Which takes both predicted and observed values, and a feature vector (x)."
     ]
    },
    {
     "cell_type": "code",
     "collapsed": false,
     "input": [
      "def g(y_obs,y_pred,x):\n",
      "    g = 1./len(y_obs) * sum((y_pred - y_obs) * x)\n",
      "    return g"
     ],
     "language": "python",
     "metadata": {},
     "outputs": [],
     "prompt_number": 13
    },
    {
     "cell_type": "markdown",
     "metadata": {},
     "source": [
      "Define cost function:\n",
      "$$C = \\frac{1}{2m} \\sum_{i=1}^m (y_{obs}^i - y_{pred}^i)^2$$"
     ]
    },
    {
     "cell_type": "code",
     "collapsed": false,
     "input": [
      "def CostFunction(y_obs,y_pred):\n",
      "    cost = 1./(2*len(y_obs)) * sum((y_obs - y_pred) ** 2)\n",
      "    return cost"
     ],
     "language": "python",
     "metadata": {},
     "outputs": [],
     "prompt_number": 14
    },
    {
     "cell_type": "markdown",
     "metadata": {},
     "source": [
      "Finish gradient descent algorithm where:\n",
      "$$\\theta_j := \\theta_j - \\alpha g_j$$\n",
      "remembering that \n",
      "$$x_0^i = 1 \\quad \\text{for all } i$$"
     ]
    },
    {
     "cell_type": "code",
     "collapsed": false,
     "input": [
      "def GradDescent(theta_0,theta_1,theta_2,alpha,num_iters):\n",
      "    \n",
      "    #C_history records values for plotting\n",
      "    C_history = []\n",
      "    \n",
      "    #Initalises Ypredicted to ensure existence in dataframe\n",
      "    df['Ypredicted'] = df.Y\n",
      "    \n",
      "    for i in np.arange(num_iters):\n",
      "        #Calculate prediction for parameter values\n",
      "        df.Ypredicted = LinFunc(df.X1_scaled, df.X2_scaled, theta_0, theta_1, theta_2)\n",
      "        \n",
      "        #Update parameters\n",
      "        theta_0 -= alpha * g(df.Y, df.Ypredicted, 1.);\n",
      "        theta_1 -= alpha * g(df.Y, df.Ypredicted, df.X1_scaled);\n",
      "        theta_2 -= alpha * g(df.Y, df.Ypredicted, df.X2_scaled);\n",
      "            \n",
      "        C_history.append([CostFunction(df.Y,df.Ypredicted)])\n",
      "        \n",
      "        \n",
      "    print \"Finished at \", [theta_0,theta_1,theta_2]\n",
      "    return theta_0, theta_1, theta_2, np.array(C_history)\n"
     ],
     "language": "python",
     "metadata": {},
     "outputs": [],
     "prompt_number": 30
    },
    {
     "cell_type": "markdown",
     "metadata": {},
     "source": [
      "Set initial guess for all three parameters and alpha value, then run Gradient Descent algorithm"
     ]
    },
    {
     "cell_type": "code",
     "collapsed": false,
     "input": [
      "theta_0_guess = 1;\n",
      "theta_1_guess = 1;\n",
      "theta_2_guess = 1;\n",
      "alpha = 0.1\n",
      "num_iters = 50\n",
      "\n",
      "theta_0, theta_1, theta_2, C_history = GradDescent(theta_0_guess,theta_1_guess,theta_2_guess,alpha,num_iters)"
     ],
     "language": "python",
     "metadata": {},
     "outputs": [
      {
       "output_type": "stream",
       "stream": "stdout",
       "text": [
        "Finished at  [338658.25440307049, 103322.82963713146, -474.74228762510387]\n"
       ]
      }
     ],
     "prompt_number": 36
    },
    {
     "cell_type": "markdown",
     "metadata": {},
     "source": [
      "Use plt.plot() to plot the Cost function history and ensure convergence"
     ]
    },
    {
     "cell_type": "code",
     "collapsed": false,
     "input": [
      "plt.plot(C_history);"
     ],
     "language": "python",
     "metadata": {},
     "outputs": [
      {
       "metadata": {},
       "output_type": "display_data",
       "png": "[encoded data removed]",
       "text": [
        "<matplotlib.figure.Figure at 0x7fba9acbed50>"
       ]
      }
     ],
     "prompt_number": 37
    },
    {
     "cell_type": "markdown",
     "metadata": {},
     "source": [
      "Use trained parameters to predict output when x1 = 2200 and x2 = 3.\n",
      "Remember to scale input features accordingly!"
     ]
    },
    {
     "cell_type": "code",
     "collapsed": false,
     "input": [
      "x1_test = 2200\n",
      "x2_test = 3\n",
      "## def LinFunc(x1, x2, theta_0, theta_1, theta_2):\n",
      "\n",
      "Ypred = LinFunc((x1_test - X1_mu)/X1_std,(x2_test - X2_mu)/X2_std, theta_0, theta_1, theta_2)\n",
      "print Ypred"
     ],
     "language": "python",
     "metadata": {},
     "outputs": [
      {
       "output_type": "stream",
       "stream": "stdout",
       "text": [
        "364960.133696\n"
       ]
      }
     ],
     "prompt_number": 39
    },
    {
     "cell_type": "markdown",
     "metadata": {},
     "source": [
      "Go back and re-run algorithm but modify alpha and re-plot Cost function history to see how alpha changes convergence"
     ]
    },
    {
     "cell_type": "heading",
     "level": 2,
     "metadata": {},
     "source": [
      "Non-Linear Regression"
     ]
    },
    {
     "cell_type": "markdown",
     "metadata": {},
     "source": [
      "Load LinRegMultiDataset.csv onto a data frame. Use pd.read_csv(...)"
     ]
    },
    {
     "cell_type": "code",
     "collapsed": false,
     "input": [
      "df2 = pd.read_csv('Machine Learning/Exercises/NonLinRegDataset.csv')"
     ],
     "language": "python",
     "metadata": {},
     "outputs": [],
     "prompt_number": 44
    },
    {
     "cell_type": "markdown",
     "metadata": {},
     "source": [
      "Explore first lines and data format using df2.head()"
     ]
    },
    {
     "cell_type": "code",
     "collapsed": false,
     "input": [
      "df2.head(10)"
     ],
     "language": "python",
     "metadata": {},
     "outputs": [
      {
       "html": [
        "<div style=\"max-height:1000px;max-width:1500px;overflow:auto;\">\n",
        "<table border=\"1\" class=\"dataframe\">\n",
        "  <thead>\n",
        "    <tr style=\"text-align: right;\">\n",
        "      <th></th>\n",
        "      <th>X</th>\n",
        "      <th>Y</th>\n",
        "    </tr>\n",
        "  </thead>\n",
        "  <tbody>\n",
        "    <tr>\n",
        "      <th>0</th>\n",
        "      <td> 52.180138</td>\n",
        "      <td> 200.108322</td>\n",
        "    </tr>\n",
        "    <tr>\n",
        "      <th>1</th>\n",
        "      <td> 65.231421</td>\n",
        "      <td> 215.061647</td>\n",
        "    </tr>\n",
        "    <tr>\n",
        "      <th>2</th>\n",
        "      <td> 36.517554</td>\n",
        "      <td> 171.206869</td>\n",
        "    </tr>\n",
        "    <tr>\n",
        "      <th>3</th>\n",
        "      <td> 11.029448</td>\n",
        "      <td> 112.232517</td>\n",
        "    </tr>\n",
        "    <tr>\n",
        "      <th>4</th>\n",
        "      <td> 34.858912</td>\n",
        "      <td> 130.389441</td>\n",
        "    </tr>\n",
        "    <tr>\n",
        "      <th>5</th>\n",
        "      <td> 16.404914</td>\n",
        "      <td> 116.383833</td>\n",
        "    </tr>\n",
        "    <tr>\n",
        "      <th>6</th>\n",
        "      <td>  7.124780</td>\n",
        "      <td>  96.402658</td>\n",
        "    </tr>\n",
        "    <tr>\n",
        "      <th>7</th>\n",
        "      <td> 45.741555</td>\n",
        "      <td> 183.905894</td>\n",
        "    </tr>\n",
        "    <tr>\n",
        "      <th>8</th>\n",
        "      <td> 54.652366</td>\n",
        "      <td> 181.353450</td>\n",
        "    </tr>\n",
        "    <tr>\n",
        "      <th>9</th>\n",
        "      <td> 83.709059</td>\n",
        "      <td> 216.657413</td>\n",
        "    </tr>\n",
        "  </tbody>\n",
        "</table>\n",
        "</div>"
       ],
       "metadata": {},
       "output_type": "pyout",
       "prompt_number": 45,
       "text": [
        "           X           Y\n",
        "0  52.180138  200.108322\n",
        "1  65.231421  215.061647\n",
        "2  36.517554  171.206869\n",
        "3  11.029448  112.232517\n",
        "4  34.858912  130.389441\n",
        "5  16.404914  116.383833\n",
        "6   7.124780   96.402658\n",
        "7  45.741555  183.905894\n",
        "8  54.652366  181.353450\n",
        "9  83.709059  216.657413"
       ]
      }
     ],
     "prompt_number": 45
    },
    {
     "cell_type": "markdown",
     "metadata": {},
     "source": [
      "Use plt.scatter() to plot X against Y"
     ]
    },
    {
     "cell_type": "code",
     "collapsed": false,
     "input": [
      "plt.scatter(df2.X, df2.Y);"
     ],
     "language": "python",
     "metadata": {},
     "outputs": [
      {
       "metadata": {},
       "output_type": "display_data",
       "png": "[encoded data removed]",
       "text": [
        "<matplotlib.figure.Figure at 0x7fba9aa44b10>"
       ]
      }
     ],
     "prompt_number": 47
    },
    {
     "cell_type": "markdown",
     "metadata": {},
     "source": [
      "We are interested in fitting a third order polynomial function to this dataset. At the moment, our only input feature is the original X input.\n",
      "We need to create the following input features:\n",
      "$$X^2 \\text{ and } X^3$$\n",
      "In order to do this create new columns in the data frame equal to these."
     ]
    },
    {
     "cell_type": "code",
     "collapsed": false,
     "input": [
      "df2['X2'] = df2.Y **2;\n",
      "df2['X3'] = df2.Y **3;"
     ],
     "language": "python",
     "metadata": {},
     "outputs": [],
     "prompt_number": 48
    },
    {
     "cell_type": "markdown",
     "metadata": {},
     "source": [
      "We now need to scale all three feature vectors, which we can do using our original feature scaling function.\n",
      "Ensure you store the scaling values once again, and store scaled values as new columns in data frame."
     ]
    },
    {
     "cell_type": "code",
     "collapsed": false,
     "input": [
      "df2['X_scaled'], X_mu, X_std = FeatureScale(df2.X)\n",
      "df2['X2_scaled'], X2_mu, X2_std = FeatureScale(df2.X2)\n",
      "df2['X3_scaled'], X3_mu, X3_std = FeatureScale(df2.X3)"
     ],
     "language": "python",
     "metadata": {},
     "outputs": [],
     "prompt_number": 49
    },
    {
     "cell_type": "markdown",
     "metadata": {},
     "source": [
      "Finish Gradient Descent algorithm.\n",
      "Code polynomial function directly into the function (using the scaled features!)\n",
      "Use g function coded earlier for the update equations."
     ]
    },
    {
     "cell_type": "code",
     "collapsed": false,
     "input": [
      "def GradDescent(theta_0,theta_1,theta_2,theta_3,alpha,num_iters):\n",
      "    \n",
      "    #C_history records values for plotting\n",
      "    C_history = []\n",
      "    \n",
      "    #Initalises Ypredicted to ensure existence in dataframe\n",
      "    df2['Ypredicted'] = df2.Y\n",
      "    \n",
      "    for i in np.arange(num_iters):\n",
      "        #Calculate prediction for parameter values\n",
      "        df2.Ypredicted = #TYPE HERE#\n",
      "        \n",
      "        #Update parameters\n",
      "        theta_0 = #TYPE HERE#\n",
      "        theta_1 = #TYPE HERE#\n",
      "        theta_2 = #TYPE HERE#\n",
      "        theta_3 = #TYPE HERE#\n",
      "            \n",
      "        C_history.append([CostFunction(df2.Y,df2.Ypredicted)])\n",
      "        \n",
      "        \n",
      "    print \"Finished at \", [theta_0,theta_1,theta_2,theta_3]\n",
      "    return theta_0, theta_1, theta_2, theta_3, np.array(C_history)"
     ],
     "language": "python",
     "metadata": {},
     "outputs": [],
     "prompt_number": 33
    },
    {
     "cell_type": "markdown",
     "metadata": {},
     "source": [
      "Set initial guess for all three parameters and alpha value, then run Gradient Descent algorithm"
     ]
    },
    {
     "cell_type": "code",
     "collapsed": false,
     "input": [
      "theta_0_guess = #TYPE HERE#\n",
      "theta_1_guess = #TYPE HERE#\n",
      "theta_2_guess = #TYPE HERE#\n",
      "theta_3_guess = #TYPE HERE#\n",
      "alpha = 0.1\n",
      "num_iters = 100\n",
      "\n",
      "theta_0, theta_1, theta_2, theta_3, C_history = GradDescent(theta_0_guess,theta_1_guess,theta_2_guess,theta_3_guess,alpha,num_iters)"
     ],
     "language": "python",
     "metadata": {},
     "outputs": [
      {
       "output_type": "stream",
       "stream": "stdout",
       "text": [
        "Finished at  [167.89453372877136, 48.781680536187594, 7.6110904030853055, -26.946889649926085]\n"
       ]
      }
     ],
     "prompt_number": 74
    },
    {
     "cell_type": "markdown",
     "metadata": {},
     "source": [
      "Use plt.plot() to plot the Cost function history and ensure convergence"
     ]
    },
    {
     "cell_type": "code",
     "collapsed": false,
     "input": [
      "plt.plot(#TYPE HERE#)"
     ],
     "language": "python",
     "metadata": {},
     "outputs": [
      {
       "metadata": {},
       "output_type": "pyout",
       "prompt_number": 75,
       "text": [
        "[<matplotlib.lines.Line2D at 0x10c530950>]"
       ]
      },
      {
       "metadata": {},
       "output_type": "display_data",
       "png": "[encoded data removed]",
       "text": [
        "<matplotlib.figure.Figure at 0x10bdc0150>"
       ]
      }
     ],
     "prompt_number": 75
    },
    {
     "cell_type": "markdown",
     "metadata": {},
     "source": [
      "Use the following code to plot the fitted function and observe how good the fit is"
     ]
    },
    {
     "cell_type": "code",
     "collapsed": false,
     "input": [
      "xpvec = np.linspace(0,100,100)\n",
      "xpvec2 = xpvec**2\n",
      "xpvec3 = xpvec**3\n",
      "xpvec_scaled = (xpvec - X_mu) / X_std\n",
      "xpvec2_scaled = (xpvec2 - X2_mu) / X2_std\n",
      "xpvec3_scaled = (xpvec3 - X3_mu) / X3_std\n",
      "\n",
      "ypred = theta_0 + theta_1*xpvec_scaled + theta_2*xpvec2_scaled + theta_3*xpvec3_scaled\n",
      "\n",
      "plt.scatter(df2.X,df2.Y)\n",
      "plt.plot(xpvec,ypred)"
     ],
     "language": "python",
     "metadata": {},
     "outputs": [
      {
       "metadata": {},
       "output_type": "pyout",
       "prompt_number": 80,
       "text": [
        "[<matplotlib.lines.Line2D at 0x10c569ad0>]"
       ]
      },
      {
       "metadata": {},
       "output_type": "display_data",
       "png": "[encoded data removed]",
       "text": [
        "<matplotlib.figure.Figure at 0x10c7bc350>"
       ]
      }
     ],
     "prompt_number": 80
    },
    {
     "cell_type": "markdown",
     "metadata": {},
     "source": [
      "What is wrong with this plot? Why might it not have found a good fit?"
     ]
    },
    {
     "cell_type": "markdown",
     "metadata": {},
     "source": [
      "The answer lies in the algorithm finding a LOCAL MINIMUM. Try changing the original guesses and see what happens to the line."
     ]
    }
   ],
   "metadata": {}
  }
 ]
}