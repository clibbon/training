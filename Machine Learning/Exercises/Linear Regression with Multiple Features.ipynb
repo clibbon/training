{
 "metadata": {
  "name": "",
  "signature": "sha256:b5587770f6e0234435b2dd332e1e08e2270df9b4f34722af08f227675954cb29"
 },
 "nbformat": 3,
 "nbformat_minor": 0,
 "worksheets": [
  {
   "cells": [
    {
     "cell_type": "heading",
     "level": 1,
     "metadata": {},
     "source": [
      "Linear Regression Multiple Features Practical"
     ]
    },
    {
     "cell_type": "markdown",
     "metadata": {},
     "source": [
      "Begin by importing all necessary modules"
     ]
    },
    {
     "cell_type": "code",
     "collapsed": false,
     "input": [
      "import numpy as np\n",
      "import pandas as pd\n",
      "import matplotlib as mpl\n",
      "import matplotlib.pyplot as plt\n",
      "import pylab\n",
      "#mpl.style.available\n",
      "#mpl.style.use('ggplot') \n",
      "\n",
      "%matplotlib inline "
     ],
     "language": "python",
     "metadata": {},
     "outputs": [],
     "prompt_number": 1
    },
    {
     "cell_type": "markdown",
     "metadata": {},
     "source": [
      "Load LinRegMultiDataset.csv onto a data frame. Use pd.read_csv(...)"
     ]
    },
    {
     "cell_type": "code",
     "collapsed": false,
     "input": [
      "df = pd.read_csv('Machine Learning/Exercises/LinRegMultiDataset.csv')"
     ],
     "language": "python",
     "metadata": {},
     "outputs": [],
     "prompt_number": 80
    },
    {
     "cell_type": "markdown",
     "metadata": {},
     "source": [
      "Explore first lines and data format using df.head()"
     ]
    },
    {
     "cell_type": "code",
     "collapsed": false,
     "input": [
      "df.head(10)\n",
      "df.describe()"
     ],
     "language": "python",
     "metadata": {},
     "outputs": [
      {
       "html": [
        "<div style=\"max-height:1000px;max-width:1500px;overflow:auto;\">\n",
        "<table border=\"1\" class=\"dataframe\">\n",
        "  <thead>\n",
        "    <tr style=\"text-align: right;\">\n",
        "      <th></th>\n",
        "      <th>X1</th>\n",
        "      <th>X2</th>\n",
        "      <th>Y</th>\n",
        "    </tr>\n",
        "  </thead>\n",
        "  <tbody>\n",
        "    <tr>\n",
        "      <th>count</th>\n",
        "      <td>   47.000000</td>\n",
        "      <td> 47.000000</td>\n",
        "      <td>     47.000000</td>\n",
        "    </tr>\n",
        "    <tr>\n",
        "      <th>mean</th>\n",
        "      <td> 2000.680851</td>\n",
        "      <td>  3.170213</td>\n",
        "      <td> 340412.659574</td>\n",
        "    </tr>\n",
        "    <tr>\n",
        "      <th>std</th>\n",
        "      <td>  794.702354</td>\n",
        "      <td>  0.760982</td>\n",
        "      <td> 125039.899586</td>\n",
        "    </tr>\n",
        "    <tr>\n",
        "      <th>min</th>\n",
        "      <td>  852.000000</td>\n",
        "      <td>  1.000000</td>\n",
        "      <td> 169900.000000</td>\n",
        "    </tr>\n",
        "    <tr>\n",
        "      <th>25%</th>\n",
        "      <td> 1432.000000</td>\n",
        "      <td>  3.000000</td>\n",
        "      <td> 249900.000000</td>\n",
        "    </tr>\n",
        "    <tr>\n",
        "      <th>50%</th>\n",
        "      <td> 1888.000000</td>\n",
        "      <td>  3.000000</td>\n",
        "      <td> 299900.000000</td>\n",
        "    </tr>\n",
        "    <tr>\n",
        "      <th>75%</th>\n",
        "      <td> 2269.000000</td>\n",
        "      <td>  4.000000</td>\n",
        "      <td> 384450.000000</td>\n",
        "    </tr>\n",
        "    <tr>\n",
        "      <th>max</th>\n",
        "      <td> 4478.000000</td>\n",
        "      <td>  5.000000</td>\n",
        "      <td> 699900.000000</td>\n",
        "    </tr>\n",
        "  </tbody>\n",
        "</table>\n",
        "</div>"
       ],
       "metadata": {},
       "output_type": "pyout",
       "prompt_number": 12,
       "text": [
        "                X1         X2              Y\n",
        "count    47.000000  47.000000      47.000000\n",
        "mean   2000.680851   3.170213  340412.659574\n",
        "std     794.702354   0.760982  125039.899586\n",
        "min     852.000000   1.000000  169900.000000\n",
        "25%    1432.000000   3.000000  249900.000000\n",
        "50%    1888.000000   3.000000  299900.000000\n",
        "75%    2269.000000   4.000000  384450.000000\n",
        "max    4478.000000   5.000000  699900.000000"
       ]
      }
     ],
     "prompt_number": 12
    },
    {
     "cell_type": "markdown",
     "metadata": {},
     "source": [
      "Use plt.scatter() to plot X1 against Y, then X2 against Y"
     ]
    },
    {
     "cell_type": "code",
     "collapsed": false,
     "input": [
      "plt.scatter(df.X1, df.Y)\n",
      "plt.figure()\n",
      "plt.scatter(df.X2, df.Y)"
     ],
     "language": "python",
     "metadata": {},
     "outputs": [
      {
       "metadata": {},
       "output_type": "pyout",
       "prompt_number": 15,
       "text": [
        "<matplotlib.collections.PathCollection at 0x7f28a77a4410>"
       ]
      },
      {
       "metadata": {},
       "output_type": "display_data",
       "png": "[encoded data removed]",
       "text": [
        "<matplotlib.figure.Figure at 0x7f28a76d80d0>"
       ]
      },
      {
       "metadata": {},
       "output_type": "display_data",
       "png": "[encoded data removed]",
       "text": [
        "<matplotlib.figure.Figure at 0x7f28a76d84d0>"
       ]
      }
     ],
     "prompt_number": 15
    },
    {
     "cell_type": "markdown",
     "metadata": {},
     "source": [
      "Define Multi-variate Linear Function (with two x inputs and three variables)"
     ]
    },
    {
     "cell_type": "code",
     "collapsed": false,
     "input": [
      "def LinFunc(x1, x2, theta_0, theta_1, theta_2):\n",
      "    f = theta_0 + theta_1*x1 + theta_2*x2;\n",
      "    return f"
     ],
     "language": "python",
     "metadata": {},
     "outputs": [],
     "prompt_number": 27
    },
    {
     "cell_type": "heading",
     "level": 2,
     "metadata": {},
     "source": [
      "Feature Scaling"
     ]
    },
    {
     "cell_type": "markdown",
     "metadata": {},
     "source": [
      "Write lines of code required to scale features according to:\n",
      "\n",
      "$$x_i = \\frac{x_i - \\mu_i}{std(x_i)}$$\n",
      "\n",
      "Use mean() and max() operators built into pandas to do this, and store scaling values to use later"
     ]
    },
    {
     "cell_type": "code",
     "collapsed": false,
     "input": [
      "X1_mean = np.mean(df.X1);\n",
      "X2_mean = np.mean(df.X2);\n",
      "X1_std = np.std(df.X1);\n",
      "X2_std = np.std(df.X2);\n",
      "\n",
      "df.X1 = (df.X1 - X1_mean)/X1_std;\n",
      "df.X2 = (df.X2 - X2_mean)/X2_std;"
     ],
     "language": "python",
     "metadata": {},
     "outputs": [],
     "prompt_number": 81
    },
    {
     "cell_type": "markdown",
     "metadata": {},
     "source": [
      "Replot using plt.scatter() to confirm scaling"
     ]
    },
    {
     "cell_type": "code",
     "collapsed": false,
     "input": [
      "plt.scatter(df.X1, df.Y);\n",
      "plt.scatter(df.X2, df.Y, color = 'r');\n",
      "\n",
      "print X1_mean\n",
      "print X1_std\n",
      "print X2_mean\n",
      "print X2_std"
     ],
     "language": "python",
     "metadata": {},
     "outputs": [
      {
       "output_type": "stream",
       "stream": "stdout",
       "text": [
        "2000.68085106\n",
        "786.202618743\n",
        "3.17021276596\n",
        "0.752842809062\n"
       ]
      },
      {
       "metadata": {},
       "output_type": "display_data",
       "png": "[encoded data removed]",
       "text": [
        "<matplotlib.figure.Figure at 0x7f28a7674ed0>"
       ]
      }
     ],
     "prompt_number": 82
    },
    {
     "cell_type": "heading",
     "level": 2,
     "metadata": {},
     "source": [
      "Multi-variate Gradient Descent"
     ]
    },
    {
     "cell_type": "markdown",
     "metadata": {},
     "source": [
      "Define gradient function:\n",
      "$$g_j = \\frac{1}{m} \\sum_{i=1}^m (y_{pred}^i - y_{obs}^i).x^i_j$$\n",
      "Which takes both predicted and observed values, and a feature vector (x)."
     ]
    },
    {
     "cell_type": "code",
     "collapsed": false,
     "input": [
      "def g(y_obs,y_pred,x):\n",
      "    g = 1./len(y_obs) * sum((y_pred - y_obs) * x)\n",
      "    return g"
     ],
     "language": "python",
     "metadata": {},
     "outputs": [],
     "prompt_number": 84
    },
    {
     "cell_type": "markdown",
     "metadata": {},
     "source": [
      "Define cost function:\n",
      "$$C = \\frac{1}{2m} \\sum_{i=1}^m (y_{obs}^i - y_{pred}^i)^2$$"
     ]
    },
    {
     "cell_type": "code",
     "collapsed": false,
     "input": [
      "def CostFunction(y_obs,y_pred):\n",
      "    cost = 1./(2*len(y_obs)) * sum((y_obs - y_pred) ** 2)\n",
      "    return cost"
     ],
     "language": "python",
     "metadata": {},
     "outputs": [],
     "prompt_number": 85
    },
    {
     "cell_type": "markdown",
     "metadata": {},
     "source": [
      "Finish gradient descent algorithm where:\n",
      "$$\\theta_j := \\theta_j - \\alpha g_j$$\n",
      "remembering that \n",
      "$$x_0^i = 1 \\quad \\text{for all } i$$"
     ]
    },
    {
     "cell_type": "code",
     "collapsed": false,
     "input": [
      "# def LinFunc(x1, x2, theta_0, theta_1, theta_2):\n",
      "\n",
      "def GradDescent(theta_0,theta_1,theta_2,alpha,num_iters):\n",
      "    converged = False\n",
      "    \n",
      "    #C_history records values for plotting\n",
      "    C_history = []\n",
      "    \n",
      "    #Initalises Ypredicted to ensure existence in dataframe\n",
      "    df['Ypredicted'] = df.Y\n",
      "    \n",
      "    for i in np.arange(num_iters):\n",
      "        #Calculate prediction for parameter values\n",
      "        df.Ypredicted = LinFunc(df.X1, df.X2, theta_0, theta_1, theta_2)\n",
      "        \n",
      "        #Update parameters\n",
      "        theta_0 -= alpha * g(df.Y, df.Ypredicted, 1.);\n",
      "        theta_1 -= alpha * g(df.Y, df.Ypredicted, df.X1);\n",
      "        theta_2 -= alpha * g(df.Y, df.Ypredicted, df.X2);\n",
      "            \n",
      "        C_history.append([CostFunction(df.Y,df.Ypredicted)])\n",
      "        \n",
      "        \n",
      "    print \"Finished at \", [theta_0,theta_1,theta_2]\n",
      "    return theta_0, theta_1, theta_2, np.array(C_history)\n"
     ],
     "language": "python",
     "metadata": {},
     "outputs": [],
     "prompt_number": 87
    },
    {
     "cell_type": "markdown",
     "metadata": {},
     "source": [
      "Set initial guess for all three parameters and alpha value, then run Gradient Descent algorithm"
     ]
    },
    {
     "cell_type": "code",
     "collapsed": false,
     "input": [
      "theta_0_guess = 1;\n",
      "theta_1_guess = 1;\n",
      "theta_2_guess = 1;\n",
      "alpha = 0.01\n",
      "num_iters = 50\n",
      "\n",
      "theta_0, theta_1, theta_2, C_history = GradDescent(theta_0_guess,theta_1_guess,theta_2_guess,alpha,num_iters)"
     ],
     "language": "python",
     "metadata": {},
     "outputs": [
      {
       "output_type": "stream",
       "stream": "stdout",
       "text": [
        "Finished at  [134461.54020755715, 39481.166720865695, 16521.461606398447]\n"
       ]
      }
     ],
     "prompt_number": 92
    },
    {
     "cell_type": "markdown",
     "metadata": {},
     "source": [
      "Use plt.plot() to plot the Cost function history and ensure convergence"
     ]
    },
    {
     "cell_type": "code",
     "collapsed": false,
     "input": [
      "plt.plot(C_history);"
     ],
     "language": "python",
     "metadata": {},
     "outputs": [
      {
       "metadata": {},
       "output_type": "display_data",
       "png": "[encoded data removed]",
       "text": [
        "<matplotlib.figure.Figure at 0x7f28a7579c10>"
       ]
      }
     ],
     "prompt_number": 93
    },
    {
     "cell_type": "markdown",
     "metadata": {},
     "source": [
      "Use trained parameters to predict output when x1 = 2200 and x2 = 3.\n",
      "Remember to scale input features accordingly!"
     ]
    },
    {
     "cell_type": "code",
     "collapsed": false,
     "input": [
      "x1_test = 2200\n",
      "x2_test = 3\n",
      "## def LinFunc(x1, x2, theta_0, theta_1, theta_2):\n",
      "\n",
      "Ypred = LinFunc((x1_test - X1_mean)/X1_std, (x2_test - X2_mean)/X2_std, theta_0, theta_1, theta_2)\n",
      "print Ypred"
     ],
     "language": "python",
     "metadata": {},
     "outputs": [
      {
       "output_type": "stream",
       "stream": "stdout",
       "text": [
        "364960.133696\n"
       ]
      }
     ],
     "prompt_number": 89
    },
    {
     "cell_type": "markdown",
     "metadata": {},
     "source": [
      "Go back and re-run algorithm but modify alpha and re-plot Cost function history to see how alpha changes convergence"
     ]
    }
   ],
   "metadata": {}
  }
 ]
}